{
 "cells": [
  {
   "cell_type": "code",
   "execution_count": 4,
   "metadata": {},
   "outputs": [],
   "source": [
    "#import tensorflow.compat.v1 as tf\n",
    "#tf.disable_v2_behavior() "
   ]
  },
  {
   "cell_type": "code",
   "execution_count": 1,
   "metadata": {
    "pycharm": {
     "is_executing": false,
     "name": "#%%\n"
    },
    "scrolled": true
   },
   "outputs": [
    {
     "name": "stderr",
     "output_type": "stream",
     "text": [
      "Using TensorFlow backend.\n",
      "WARNING:root:Limited tf.compat.v2.summary API due to missing TensorBoard installation.\n"
     ]
    }
   ],
   "source": [
    "\n",
    "import numpy as np\n",
    "from attack_utils.patch_utils import extract_roi, evaluate_vanishing_patch, evaluate_mislabeling_patch\n",
    "from dataset_utils.preprocessing import letterbox_image_padded\n",
    "\n",
    "from models.yolov3 import YOLOv3_Darknet53\n",
    "#from models.ssd import SSD300\n",
    "from misc_utils.visualization import visualize_detections\n",
    "from keras import backend as K\n",
    "from tqdm import tqdm\n",
    "from PIL import Image\n",
    "#from keras.legacy_tf_layers import BatchNormalization\n",
    "#from keras.layers.normalization import batch_normalization\n",
    "import datetime\n",
    "import os\n",
    "K.clear_session()"
   ]
  },
  {
   "cell_type": "code",
   "execution_count": 2,
   "metadata": {
    "pycharm": {
     "is_executing": false,
     "name": "#%%\n"
    }
   },
   "outputs": [
    {
     "name": "stdout",
     "output_type": "stream",
     "text": [
      "WARNING:tensorflow:From /home/tihaam/miniconda2/envs/vod3/lib/python3.7/site-packages/tensorflow_core/python/ops/resource_variable_ops.py:1630: calling BaseResourceVariable.__init__ (from tensorflow.python.ops.resource_variable_ops) with constraint is deprecated and will be removed in a future version.\n",
      "Instructions for updating:\n",
      "If using Keras pass *_constraint arguments to layers.\n"
     ]
    },
    {
     "name": "stderr",
     "output_type": "stream",
     "text": [
      "WARNING:tensorflow:From /home/tihaam/miniconda2/envs/vod3/lib/python3.7/site-packages/tensorflow_core/python/ops/resource_variable_ops.py:1630: calling BaseResourceVariable.__init__ (from tensorflow.python.ops.resource_variable_ops) with constraint is deprecated and will be removed in a future version.\n",
      "Instructions for updating:\n",
      "If using Keras pass *_constraint arguments to layers.\n",
      "2021-10-09 02:03:38.295713: I tensorflow/stream_executor/platform/default/dso_loader.cc:44] Successfully opened dynamic library libcuda.so.1\n",
      "2021-10-09 02:03:38.296496: E tensorflow/stream_executor/cuda/cuda_driver.cc:318] failed call to cuInit: CUDA_ERROR_UNKNOWN: unknown error\n",
      "2021-10-09 02:03:38.296523: I tensorflow/stream_executor/cuda/cuda_diagnostics.cc:169] retrieving CUDA diagnostic information for host: tihaam-Predator-PH315-51\n",
      "2021-10-09 02:03:38.296530: I tensorflow/stream_executor/cuda/cuda_diagnostics.cc:176] hostname: tihaam-Predator-PH315-51\n",
      "2021-10-09 02:03:38.296580: I tensorflow/stream_executor/cuda/cuda_diagnostics.cc:200] libcuda reported version is: 384.130.0\n",
      "2021-10-09 02:03:38.296607: I tensorflow/stream_executor/cuda/cuda_diagnostics.cc:204] kernel reported version is: 384.130.0\n",
      "2021-10-09 02:03:38.296614: I tensorflow/stream_executor/cuda/cuda_diagnostics.cc:310] kernel version seems to match DSO: 384.130.0\n",
      "2021-10-09 02:03:38.297095: I tensorflow/core/platform/cpu_feature_guard.cc:142] Your CPU supports instructions that this TensorFlow binary was not compiled to use: AVX2 FMA\n",
      "2021-10-09 02:03:38.320542: I tensorflow/core/platform/profile_utils/cpu_utils.cc:94] CPU Frequency: 2208000000 Hz\n",
      "2021-10-09 02:03:38.321619: I tensorflow/compiler/xla/service/service.cc:168] XLA service 0x55f2230c36b0 initialized for platform Host (this does not guarantee that XLA will be used). Devices:\n",
      "2021-10-09 02:03:38.321647: I tensorflow/compiler/xla/service/service.cc:176]   StreamExecutor device (0): Host, Default Version\n"
     ]
    },
    {
     "name": "stdout",
     "output_type": "stream",
     "text": [
      "WARNING:tensorflow:From /home/tihaam/Downloads/TOG-master/models/yolov3.py:24: The name tf.placeholder is deprecated. Please use tf.compat.v1.placeholder instead.\n",
      "\n"
     ]
    },
    {
     "name": "stderr",
     "output_type": "stream",
     "text": [
      "WARNING:tensorflow:From /home/tihaam/Downloads/TOG-master/models/yolov3.py:24: The name tf.placeholder is deprecated. Please use tf.compat.v1.placeholder instead.\n",
      "\n"
     ]
    },
    {
     "name": "stdout",
     "output_type": "stream",
     "text": [
      "WARNING:tensorflow:From /home/tihaam/miniconda2/envs/vod3/lib/python3.7/site-packages/tensorflow_core/python/ops/array_ops.py:1475: where (from tensorflow.python.ops.array_ops) is deprecated and will be removed in a future version.\n",
      "Instructions for updating:\n",
      "Use tf.where in 2.0, which has the same broadcast rule as np.where\n"
     ]
    },
    {
     "name": "stderr",
     "output_type": "stream",
     "text": [
      "WARNING:tensorflow:From /home/tihaam/miniconda2/envs/vod3/lib/python3.7/site-packages/tensorflow_core/python/ops/array_ops.py:1475: where (from tensorflow.python.ops.array_ops) is deprecated and will be removed in a future version.\n",
      "Instructions for updating:\n",
      "Use tf.where in 2.0, which has the same broadcast rule as np.where\n"
     ]
    }
   ],
   "source": [
    "weights = '/home/tihaam/Downloads/TOG-master/assets/YOLOv3_Darknet53.h5'  # TODO: Change this path to the victim model's weights\n",
    "#weights = '/research/projects/robust-object-detection/model_weights/YOLOv3_VOC0712_Darknet53.h5'  # TODO: Change this path to the victim model's weights\n",
    "\n",
    "detector = YOLOv3_Darknet53(weights=weights)\n",
    "\n",
    "#weights = '/home/tihaam/Downloads/TOG-master/ssd_utils/SSD300.h5'  # TODO: Change this path to the victim model's weights\n",
    "\n",
    "#detector = SSD300(weights=weights)"
   ]
  },
  {
   "cell_type": "markdown",
   "metadata": {},
   "source": [
    "## Configuration of Attack Hyperparameters"
   ]
  },
  {
   "cell_type": "code",
   "execution_count": 17,
   "metadata": {
    "pycharm": {
     "is_executing": false,
     "name": "#%%\n"
    }
   },
   "outputs": [
    {
     "name": "stdout",
     "output_type": "stream",
     "text": [
      "ERROR! Session/line number was not unique in database. History logging moved to new session 204\n"
     ]
    }
   ],
   "source": [
    "ROOT_TRAIN = '/home/tihaam/Downloads/INRIAPerson/Train/pos'\n",
    "ROOT_TEST = '/home/tihaam/Downloads/INRIAPerson/Test/pos'\n",
    "ROOT_OUTPUT = './outputs'\n",
    "NUM_EPOCHS = 100\n",
    "LR_INIT = 0.1\n",
    "LR_MULTIPLIER = 0.1\n",
    "BATCH_SIZE = 8\n",
    "TOLERANCE_MAX = 5\n",
    "TOLERANCE_DELTA = 0.01\n",
    "PATCH_SIZE = (64, 64)\n",
    "MIN_ROI_SIZE = PATCH_SIZE[0] * PATCH_SIZE[1] * 3\n",
    "SOURCE_CLASS = 'person'\n",
    "TARGET_CLASS = 'chair'\n",
    "fpaths_train = [os.path.join(ROOT_TRAIN, fname) for fname in os.listdir(ROOT_TRAIN)]\n",
    "fpaths_test = [os.path.join(ROOT_TEST, fname) for fname in os.listdir(ROOT_TEST)]"
   ]
  },
  {
   "cell_type": "code",
   "execution_count": 18,
   "metadata": {
    "pycharm": {
     "is_executing": false,
     "name": "#%%\n"
    }
   },
   "outputs": [],
   "source": [
    "patch = np.full(shape=(1, *PATCH_SIZE, 3), fill_value=0.50)\n",
    "min_loss = np.float('inf')\n",
    "tolerance = 0\n",
    "lr = LR_INIT\n",
    "\n",
    "output_folder = os.path.join(ROOT_OUTPUT, 'vanishing',\n",
    "                             '%s_%s' % (datetime.datetime.now().strftime(\"%Y-%m-%d_%H:%M:%S\"), SOURCE_CLASS))\n",
    "os.makedirs(output_folder)"
   ]
  },
  {
   "cell_type": "code",
   "execution_count": null,
   "metadata": {
    "pycharm": {
     "name": "#%% \n"
    }
   },
   "outputs": [
    {
     "name": "stderr",
     "output_type": "stream",
     "text": [
      "100%|█████████████████████████████████████████| 614/614 [25:38<00:00,  2.50s/it]\n"
     ]
    },
    {
     "name": "stdout",
     "output_type": "stream",
     "text": [
      "[Epoch 0] LR: 0.100000 | Tol: 1/5 | Min. Loss: 26.2641\n",
      "  > Loss      : 26.2641\n",
      "  > ASR (TOG) : 76/226 = 0.34\n",
      "  > ASR (Rand): 2/226 = 0.01\n"
     ]
    },
    {
     "name": "stderr",
     "output_type": "stream",
     "text": [
      "100%|█████████████████████████████████████████| 614/614 [25:29<00:00,  2.49s/it]\n"
     ]
    },
    {
     "name": "stdout",
     "output_type": "stream",
     "text": [
      "[Epoch 1] LR: 0.100000 | Tol: 1/5 | Min. Loss: 23.1003\n",
      "  > Loss      : 23.1003\n",
      "  > ASR (TOG) : 103/226 = 0.46\n",
      "  > ASR (Rand): 2/226 = 0.01\n"
     ]
    },
    {
     "name": "stderr",
     "output_type": "stream",
     "text": [
      "100%|█████████████████████████████████████████| 614/614 [25:31<00:00,  2.49s/it]\n"
     ]
    },
    {
     "name": "stdout",
     "output_type": "stream",
     "text": [
      "[Epoch 2] LR: 0.100000 | Tol: 1/5 | Min. Loss: 21.9317\n",
      "  > Loss      : 21.9317\n",
      "  > ASR (TOG) : 120/226 = 0.53\n",
      "  > ASR (Rand): 2/226 = 0.01\n"
     ]
    },
    {
     "name": "stderr",
     "output_type": "stream",
     "text": [
      "100%|█████████████████████████████████████████| 614/614 [25:31<00:00,  2.49s/it]\n"
     ]
    },
    {
     "name": "stdout",
     "output_type": "stream",
     "text": [
      "[Epoch 3] LR: 0.100000 | Tol: 1/5 | Min. Loss: 20.9664\n",
      "  > Loss      : 20.9664\n",
      "  > ASR (TOG) : 148/226 = 0.65\n",
      "  > ASR (Rand): 2/226 = 0.01\n"
     ]
    },
    {
     "name": "stderr",
     "output_type": "stream",
     "text": [
      "100%|█████████████████████████████████████████| 614/614 [25:31<00:00,  2.49s/it]\n"
     ]
    },
    {
     "name": "stdout",
     "output_type": "stream",
     "text": [
      "[Epoch 4] LR: 0.100000 | Tol: 1/5 | Min. Loss: 20.5088\n",
      "  > Loss      : 20.5088\n",
      "  > ASR (TOG) : 156/226 = 0.69\n",
      "  > ASR (Rand): 2/226 = 0.01\n"
     ]
    },
    {
     "name": "stderr",
     "output_type": "stream",
     "text": [
      "100%|█████████████████████████████████████████| 614/614 [25:33<00:00,  2.50s/it]\n"
     ]
    },
    {
     "name": "stdout",
     "output_type": "stream",
     "text": [
      "[Epoch 5] LR: 0.100000 | Tol: 1/5 | Min. Loss: 19.9405\n",
      "  > Loss      : 19.9405\n",
      "  > ASR (TOG) : 158/226 = 0.70\n",
      "  > ASR (Rand): 2/226 = 0.01\n"
     ]
    },
    {
     "name": "stderr",
     "output_type": "stream",
     "text": [
      "100%|█████████████████████████████████████████| 614/614 [27:08<00:00,  2.65s/it]\n"
     ]
    },
    {
     "name": "stdout",
     "output_type": "stream",
     "text": [
      "[Epoch 6] LR: 0.100000 | Tol: 1/5 | Min. Loss: 19.6302\n",
      "  > Loss      : 19.6302\n",
      "  > ASR (TOG) : 162/226 = 0.72\n",
      "  > ASR (Rand): 1/226 = 0.00\n"
     ]
    },
    {
     "name": "stderr",
     "output_type": "stream",
     "text": [
      "100%|█████████████████████████████████████████| 614/614 [26:51<00:00,  2.63s/it]\n"
     ]
    },
    {
     "name": "stdout",
     "output_type": "stream",
     "text": [
      "[Epoch 7] LR: 0.100000 | Tol: 1/5 | Min. Loss: 19.1671\n",
      "  > Loss      : 19.1671\n",
      "  > ASR (TOG) : 164/226 = 0.73\n",
      "  > ASR (Rand): 2/226 = 0.01\n"
     ]
    },
    {
     "name": "stderr",
     "output_type": "stream",
     "text": [
      "100%|█████████████████████████████████████████| 614/614 [26:03<00:00,  2.55s/it]\n"
     ]
    },
    {
     "name": "stdout",
     "output_type": "stream",
     "text": [
      "[Epoch 8] LR: 0.100000 | Tol: 1/5 | Min. Loss: 18.8646\n",
      "  > Loss      : 18.8646\n",
      "  > ASR (TOG) : 170/226 = 0.75\n",
      "  > ASR (Rand): 1/226 = 0.00\n"
     ]
    },
    {
     "name": "stderr",
     "output_type": "stream",
     "text": [
      "100%|█████████████████████████████████████████| 614/614 [26:12<00:00,  2.56s/it]\n"
     ]
    },
    {
     "name": "stdout",
     "output_type": "stream",
     "text": [
      "[Epoch 9] LR: 0.100000 | Tol: 1/5 | Min. Loss: 18.6066\n",
      "  > Loss      : 18.6066\n",
      "  > ASR (TOG) : 173/226 = 0.77\n",
      "  > ASR (Rand): 2/226 = 0.01\n"
     ]
    },
    {
     "name": "stderr",
     "output_type": "stream",
     "text": [
      "100%|█████████████████████████████████████████| 614/614 [25:33<00:00,  2.50s/it]\n"
     ]
    },
    {
     "name": "stdout",
     "output_type": "stream",
     "text": [
      "[Epoch 10] LR: 0.100000 | Tol: 1/5 | Min. Loss: 18.4138\n",
      "  > Loss      : 18.4138\n",
      "  > ASR (TOG) : 179/226 = 0.79\n",
      "  > ASR (Rand): 2/226 = 0.01\n"
     ]
    },
    {
     "name": "stderr",
     "output_type": "stream",
     "text": [
      "100%|█████████████████████████████████████████| 614/614 [25:32<00:00,  2.50s/it]\n"
     ]
    },
    {
     "name": "stdout",
     "output_type": "stream",
     "text": [
      "[Epoch 11] LR: 0.100000 | Tol: 1/5 | Min. Loss: 18.1398\n",
      "  > Loss      : 18.1398\n",
      "  > ASR (TOG) : 177/226 = 0.78\n",
      "  > ASR (Rand): 2/226 = 0.01\n"
     ]
    },
    {
     "name": "stderr",
     "output_type": "stream",
     "text": [
      "100%|█████████████████████████████████████████| 614/614 [25:32<00:00,  2.50s/it]\n"
     ]
    },
    {
     "name": "stdout",
     "output_type": "stream",
     "text": [
      "[Epoch 12] LR: 0.100000 | Tol: 1/5 | Min. Loss: 17.9192\n",
      "  > Loss      : 17.9192\n",
      "  > ASR (TOG) : 184/226 = 0.81\n",
      "  > ASR (Rand): 1/226 = 0.00\n"
     ]
    },
    {
     "name": "stderr",
     "output_type": "stream",
     "text": [
      "100%|█████████████████████████████████████████| 614/614 [25:34<00:00,  2.50s/it]\n"
     ]
    },
    {
     "name": "stdout",
     "output_type": "stream",
     "text": [
      "[Epoch 13] LR: 0.100000 | Tol: 1/5 | Min. Loss: 17.5951\n",
      "  > Loss      : 17.5951\n",
      "  > ASR (TOG) : 185/226 = 0.82\n",
      "  > ASR (Rand): 1/226 = 0.00\n"
     ]
    },
    {
     "name": "stderr",
     "output_type": "stream",
     "text": [
      "100%|█████████████████████████████████████████| 614/614 [25:31<00:00,  2.49s/it]\n"
     ]
    },
    {
     "name": "stdout",
     "output_type": "stream",
     "text": [
      "[Epoch 14] LR: 0.100000 | Tol: 1/5 | Min. Loss: 17.3308\n",
      "  > Loss      : 17.3308\n",
      "  > ASR (TOG) : 185/226 = 0.82\n",
      "  > ASR (Rand): 2/226 = 0.01\n"
     ]
    },
    {
     "name": "stderr",
     "output_type": "stream",
     "text": [
      "100%|█████████████████████████████████████████| 614/614 [25:31<00:00,  2.49s/it]\n"
     ]
    },
    {
     "name": "stdout",
     "output_type": "stream",
     "text": [
      "[Epoch 15] LR: 0.100000 | Tol: 2/5 | Min. Loss: 17.3308\n",
      "  > Loss      : 17.3759\n",
      "  > ASR (TOG) : 186/226 = 0.82\n",
      "  > ASR (Rand): 2/226 = 0.01\n"
     ]
    },
    {
     "name": "stderr",
     "output_type": "stream",
     "text": [
      " 12%|████▉                                     | 72/614 [03:09<23:45,  2.63s/it]\n",
      "ERROR:root:Internal Python error in the inspect module.\n",
      "Below is the traceback from this internal error.\n",
      "\n",
      "ERROR:root:Internal Python error in the inspect module.\n",
      "Below is the traceback from this internal error.\n",
      "\n",
      "ERROR:root:Internal Python error in the inspect module.\n",
      "Below is the traceback from this internal error.\n",
      "\n"
     ]
    },
    {
     "name": "stdout",
     "output_type": "stream",
     "text": [
      "Traceback (most recent call last):\n",
      "  File \"/home/tihaam/miniconda2/envs/vod3/lib/python3.7/site-packages/IPython/core/interactiveshell.py\", line 3441, in run_code\n",
      "    exec(code_obj, self.user_global_ns, self.user_ns)\n",
      "  File \"/tmp/ipykernel_14934/2789278351.py\", line 15, in <module>\n",
      "    detections_nat = detector.detect(x_nat)\n",
      "  File \"/home/tihaam/Downloads/TOG-master/models/yolov3.py\", line 91, in detect\n",
      "    encoded_detections = self.model.predict(x)\n",
      "  File \"/home/tihaam/miniconda2/envs/vod3/lib/python3.7/site-packages/keras/engine/training.py\", line 1462, in predict\n",
      "    callbacks=callbacks)\n",
      "  File \"/home/tihaam/miniconda2/envs/vod3/lib/python3.7/site-packages/keras/engine/training_arrays.py\", line 324, in predict_loop\n",
      "    batch_outs = f(ins_batch)\n",
      "  File \"/home/tihaam/miniconda2/envs/vod3/lib/python3.7/site-packages/tensorflow_core/python/keras/backend.py\", line 3476, in __call__\n",
      "    run_metadata=self.run_metadata)\n",
      "  File \"/home/tihaam/miniconda2/envs/vod3/lib/python3.7/site-packages/tensorflow_core/python/client/session.py\", line 1472, in __call__\n",
      "    run_metadata_ptr)\n",
      "KeyboardInterrupt\n",
      "\n",
      "During handling of the above exception, another exception occurred:\n",
      "\n",
      "Traceback (most recent call last):\n",
      "  File \"/home/tihaam/miniconda2/envs/vod3/lib/python3.7/site-packages/IPython/core/interactiveshell.py\", line 2061, in showtraceback\n",
      "    stb = value._render_traceback_()\n",
      "AttributeError: 'KeyboardInterrupt' object has no attribute '_render_traceback_'\n",
      "\n",
      "During handling of the above exception, another exception occurred:\n",
      "\n",
      "Traceback (most recent call last):\n",
      "  File \"/home/tihaam/miniconda2/envs/vod3/lib/python3.7/site-packages/IPython/core/ultratb.py\", line 1101, in get_records\n",
      "    return _fixed_getinnerframes(etb, number_of_lines_of_context, tb_offset)\n",
      "  File \"/home/tihaam/miniconda2/envs/vod3/lib/python3.7/site-packages/IPython/core/ultratb.py\", line 248, in wrapped\n",
      "    return f(*args, **kwargs)\n",
      "  File \"/home/tihaam/miniconda2/envs/vod3/lib/python3.7/site-packages/IPython/core/ultratb.py\", line 281, in _fixed_getinnerframes\n",
      "    records = fix_frame_records_filenames(inspect.getinnerframes(etb, context))\n",
      "  File \"/home/tihaam/miniconda2/envs/vod3/lib/python3.7/inspect.py\", line 1502, in getinnerframes\n",
      "    frameinfo = (tb.tb_frame,) + getframeinfo(tb, context)\n",
      "  File \"/home/tihaam/miniconda2/envs/vod3/lib/python3.7/inspect.py\", line 1460, in getframeinfo\n",
      "    filename = getsourcefile(frame) or getfile(frame)\n",
      "  File \"/home/tihaam/miniconda2/envs/vod3/lib/python3.7/inspect.py\", line 696, in getsourcefile\n",
      "    if getattr(getmodule(object, filename), '__loader__', None) is not None:\n",
      "  File \"/home/tihaam/miniconda2/envs/vod3/lib/python3.7/inspect.py\", line 733, in getmodule\n",
      "    if ismodule(module) and hasattr(module, '__file__'):\n",
      "  File \"/home/tihaam/miniconda2/envs/vod3/lib/python3.7/site-packages/tensorflow/__init__.py\", line 50, in __getattr__\n",
      "    module = self._load()\n",
      "  File \"/home/tihaam/miniconda2/envs/vod3/lib/python3.7/site-packages/tensorflow/__init__.py\", line 44, in _load\n",
      "    module = _importlib.import_module(self.__name__)\n",
      "  File \"/home/tihaam/miniconda2/envs/vod3/lib/python3.7/importlib/__init__.py\", line 127, in import_module\n",
      "    return _bootstrap._gcd_import(name[level:], package, level)\n",
      "  File \"<frozen importlib._bootstrap>\", line 1006, in _gcd_import\n",
      "  File \"<frozen importlib._bootstrap>\", line 983, in _find_and_load\n",
      "  File \"<frozen importlib._bootstrap>\", line 965, in _find_and_load_unlocked\n",
      "ModuleNotFoundError: No module named 'tensorflow_core.estimator'\n",
      "Traceback (most recent call last):\n",
      "  File \"/home/tihaam/miniconda2/envs/vod3/lib/python3.7/site-packages/IPython/core/interactiveshell.py\", line 3441, in run_code\n",
      "    exec(code_obj, self.user_global_ns, self.user_ns)\n",
      "  File \"/tmp/ipykernel_14934/2789278351.py\", line 15, in <module>\n",
      "    detections_nat = detector.detect(x_nat)\n",
      "  File \"/home/tihaam/Downloads/TOG-master/models/yolov3.py\", line 91, in detect\n",
      "    encoded_detections = self.model.predict(x)\n",
      "  File \"/home/tihaam/miniconda2/envs/vod3/lib/python3.7/site-packages/keras/engine/training.py\", line 1462, in predict\n",
      "    callbacks=callbacks)\n",
      "  File \"/home/tihaam/miniconda2/envs/vod3/lib/python3.7/site-packages/keras/engine/training_arrays.py\", line 324, in predict_loop\n",
      "    batch_outs = f(ins_batch)\n",
      "  File \"/home/tihaam/miniconda2/envs/vod3/lib/python3.7/site-packages/tensorflow_core/python/keras/backend.py\", line 3476, in __call__\n",
      "    run_metadata=self.run_metadata)\n",
      "  File \"/home/tihaam/miniconda2/envs/vod3/lib/python3.7/site-packages/tensorflow_core/python/client/session.py\", line 1472, in __call__\n",
      "    run_metadata_ptr)\n",
      "KeyboardInterrupt\n",
      "\n",
      "During handling of the above exception, another exception occurred:\n",
      "\n",
      "Traceback (most recent call last):\n",
      "  File \"/home/tihaam/miniconda2/envs/vod3/lib/python3.7/site-packages/IPython/core/interactiveshell.py\", line 2061, in showtraceback\n",
      "    stb = value._render_traceback_()\n",
      "AttributeError: 'KeyboardInterrupt' object has no attribute '_render_traceback_'\n",
      "\n",
      "During handling of the above exception, another exception occurred:\n",
      "\n",
      "Traceback (most recent call last):\n",
      "  File \"/home/tihaam/miniconda2/envs/vod3/lib/python3.7/site-packages/IPython/core/interactiveshell.py\", line 3361, in run_ast_nodes\n",
      "    if (await self.run_code(code, result,  async_=asy)):\n",
      "  File \"/home/tihaam/miniconda2/envs/vod3/lib/python3.7/site-packages/IPython/core/interactiveshell.py\", line 3458, in run_code\n",
      "    self.showtraceback(running_compiled_code=True)\n",
      "  File \"/home/tihaam/miniconda2/envs/vod3/lib/python3.7/site-packages/IPython/core/interactiveshell.py\", line 2064, in showtraceback\n",
      "    value, tb, tb_offset=tb_offset)\n",
      "  File \"/home/tihaam/miniconda2/envs/vod3/lib/python3.7/site-packages/IPython/core/ultratb.py\", line 1368, in structured_traceback\n",
      "    self, etype, value, tb, tb_offset, number_of_lines_of_context)\n",
      "  File \"/home/tihaam/miniconda2/envs/vod3/lib/python3.7/site-packages/IPython/core/ultratb.py\", line 1268, in structured_traceback\n",
      "    self, etype, value, tb, tb_offset, number_of_lines_of_context\n",
      "  File \"/home/tihaam/miniconda2/envs/vod3/lib/python3.7/site-packages/IPython/core/ultratb.py\", line 1125, in structured_traceback\n",
      "    tb_offset)\n",
      "  File \"/home/tihaam/miniconda2/envs/vod3/lib/python3.7/site-packages/IPython/core/ultratb.py\", line 1082, in format_exception_as_a_whole\n",
      "    last_unique, recursion_repeat = find_recursion(orig_etype, evalue, records)\n",
      "  File \"/home/tihaam/miniconda2/envs/vod3/lib/python3.7/site-packages/IPython/core/ultratb.py\", line 382, in find_recursion\n",
      "    return len(records), 0\n",
      "TypeError: object of type 'NoneType' has no len()\n",
      "\n",
      "During handling of the above exception, another exception occurred:\n",
      "\n",
      "Traceback (most recent call last):\n",
      "  File \"/home/tihaam/miniconda2/envs/vod3/lib/python3.7/site-packages/IPython/core/interactiveshell.py\", line 2061, in showtraceback\n",
      "    stb = value._render_traceback_()\n",
      "AttributeError: 'TypeError' object has no attribute '_render_traceback_'\n",
      "\n",
      "During handling of the above exception, another exception occurred:\n",
      "\n",
      "Traceback (most recent call last):\n",
      "  File \"/home/tihaam/miniconda2/envs/vod3/lib/python3.7/site-packages/IPython/core/ultratb.py\", line 1101, in get_records\n",
      "    return _fixed_getinnerframes(etb, number_of_lines_of_context, tb_offset)\n",
      "  File \"/home/tihaam/miniconda2/envs/vod3/lib/python3.7/site-packages/IPython/core/ultratb.py\", line 248, in wrapped\n",
      "    return f(*args, **kwargs)\n",
      "  File \"/home/tihaam/miniconda2/envs/vod3/lib/python3.7/site-packages/IPython/core/ultratb.py\", line 281, in _fixed_getinnerframes\n",
      "    records = fix_frame_records_filenames(inspect.getinnerframes(etb, context))\n",
      "  File \"/home/tihaam/miniconda2/envs/vod3/lib/python3.7/inspect.py\", line 1502, in getinnerframes\n",
      "    frameinfo = (tb.tb_frame,) + getframeinfo(tb, context)\n",
      "  File \"/home/tihaam/miniconda2/envs/vod3/lib/python3.7/inspect.py\", line 1460, in getframeinfo\n",
      "    filename = getsourcefile(frame) or getfile(frame)\n",
      "  File \"/home/tihaam/miniconda2/envs/vod3/lib/python3.7/inspect.py\", line 696, in getsourcefile\n",
      "    if getattr(getmodule(object, filename), '__loader__', None) is not None:\n",
      "  File \"/home/tihaam/miniconda2/envs/vod3/lib/python3.7/inspect.py\", line 733, in getmodule\n",
      "    if ismodule(module) and hasattr(module, '__file__'):\n",
      "  File \"/home/tihaam/miniconda2/envs/vod3/lib/python3.7/site-packages/tensorflow/__init__.py\", line 50, in __getattr__\n",
      "    module = self._load()\n",
      "  File \"/home/tihaam/miniconda2/envs/vod3/lib/python3.7/site-packages/tensorflow/__init__.py\", line 44, in _load\n",
      "    module = _importlib.import_module(self.__name__)\n",
      "  File \"/home/tihaam/miniconda2/envs/vod3/lib/python3.7/importlib/__init__.py\", line 127, in import_module\n",
      "    return _bootstrap._gcd_import(name[level:], package, level)\n",
      "  File \"<frozen importlib._bootstrap>\", line 1006, in _gcd_import\n",
      "  File \"<frozen importlib._bootstrap>\", line 983, in _find_and_load\n",
      "  File \"<frozen importlib._bootstrap>\", line 965, in _find_and_load_unlocked\n",
      "ModuleNotFoundError: No module named 'tensorflow_core.estimator'\n",
      "Traceback (most recent call last):\n",
      "  File \"/home/tihaam/miniconda2/envs/vod3/lib/python3.7/site-packages/IPython/core/interactiveshell.py\", line 3441, in run_code\n",
      "    exec(code_obj, self.user_global_ns, self.user_ns)\n",
      "  File \"/tmp/ipykernel_14934/2789278351.py\", line 15, in <module>\n",
      "    detections_nat = detector.detect(x_nat)\n",
      "  File \"/home/tihaam/Downloads/TOG-master/models/yolov3.py\", line 91, in detect\n",
      "    encoded_detections = self.model.predict(x)\n",
      "  File \"/home/tihaam/miniconda2/envs/vod3/lib/python3.7/site-packages/keras/engine/training.py\", line 1462, in predict\n",
      "    callbacks=callbacks)\n",
      "  File \"/home/tihaam/miniconda2/envs/vod3/lib/python3.7/site-packages/keras/engine/training_arrays.py\", line 324, in predict_loop\n",
      "    batch_outs = f(ins_batch)\n",
      "  File \"/home/tihaam/miniconda2/envs/vod3/lib/python3.7/site-packages/tensorflow_core/python/keras/backend.py\", line 3476, in __call__\n",
      "    run_metadata=self.run_metadata)\n",
      "  File \"/home/tihaam/miniconda2/envs/vod3/lib/python3.7/site-packages/tensorflow_core/python/client/session.py\", line 1472, in __call__\n",
      "    run_metadata_ptr)\n",
      "KeyboardInterrupt\n",
      "\n",
      "During handling of the above exception, another exception occurred:\n",
      "\n",
      "Traceback (most recent call last):\n",
      "  File \"/home/tihaam/miniconda2/envs/vod3/lib/python3.7/site-packages/IPython/core/interactiveshell.py\", line 2061, in showtraceback\n",
      "    stb = value._render_traceback_()\n",
      "AttributeError: 'KeyboardInterrupt' object has no attribute '_render_traceback_'\n",
      "\n",
      "During handling of the above exception, another exception occurred:\n",
      "\n",
      "Traceback (most recent call last):\n",
      "  File \"/home/tihaam/miniconda2/envs/vod3/lib/python3.7/site-packages/IPython/core/interactiveshell.py\", line 3361, in run_ast_nodes\n",
      "    if (await self.run_code(code, result,  async_=asy)):\n",
      "  File \"/home/tihaam/miniconda2/envs/vod3/lib/python3.7/site-packages/IPython/core/interactiveshell.py\", line 3458, in run_code\n",
      "    self.showtraceback(running_compiled_code=True)\n",
      "  File \"/home/tihaam/miniconda2/envs/vod3/lib/python3.7/site-packages/IPython/core/interactiveshell.py\", line 2064, in showtraceback\n",
      "    value, tb, tb_offset=tb_offset)\n",
      "  File \"/home/tihaam/miniconda2/envs/vod3/lib/python3.7/site-packages/IPython/core/ultratb.py\", line 1368, in structured_traceback\n",
      "    self, etype, value, tb, tb_offset, number_of_lines_of_context)\n",
      "  File \"/home/tihaam/miniconda2/envs/vod3/lib/python3.7/site-packages/IPython/core/ultratb.py\", line 1268, in structured_traceback\n",
      "    self, etype, value, tb, tb_offset, number_of_lines_of_context\n",
      "  File \"/home/tihaam/miniconda2/envs/vod3/lib/python3.7/site-packages/IPython/core/ultratb.py\", line 1125, in structured_traceback\n",
      "    tb_offset)\n",
      "  File \"/home/tihaam/miniconda2/envs/vod3/lib/python3.7/site-packages/IPython/core/ultratb.py\", line 1082, in format_exception_as_a_whole\n",
      "    last_unique, recursion_repeat = find_recursion(orig_etype, evalue, records)\n",
      "  File \"/home/tihaam/miniconda2/envs/vod3/lib/python3.7/site-packages/IPython/core/ultratb.py\", line 382, in find_recursion\n",
      "    return len(records), 0\n",
      "TypeError: object of type 'NoneType' has no len()\n",
      "\n",
      "During handling of the above exception, another exception occurred:\n",
      "\n",
      "Traceback (most recent call last):\n",
      "  File \"/home/tihaam/miniconda2/envs/vod3/lib/python3.7/site-packages/IPython/core/interactiveshell.py\", line 2061, in showtraceback\n",
      "    stb = value._render_traceback_()\n",
      "AttributeError: 'TypeError' object has no attribute '_render_traceback_'\n",
      "\n",
      "During handling of the above exception, another exception occurred:\n",
      "\n",
      "Traceback (most recent call last):\n",
      "  File \"/home/tihaam/miniconda2/envs/vod3/lib/python3.7/site-packages/IPython/core/interactiveshell.py\", line 2944, in _run_cell\n",
      "    return runner(coro)\n",
      "  File \"/home/tihaam/miniconda2/envs/vod3/lib/python3.7/site-packages/IPython/core/async_helpers.py\", line 68, in _pseudo_sync_runner\n",
      "    coro.send(None)\n",
      "  File \"/home/tihaam/miniconda2/envs/vod3/lib/python3.7/site-packages/IPython/core/interactiveshell.py\", line 3170, in run_cell_async\n",
      "    interactivity=interactivity, compiler=compiler, result=result)\n",
      "  File \"/home/tihaam/miniconda2/envs/vod3/lib/python3.7/site-packages/IPython/core/interactiveshell.py\", line 3380, in run_ast_nodes\n",
      "    self.showtraceback()\n",
      "  File \"/home/tihaam/miniconda2/envs/vod3/lib/python3.7/site-packages/IPython/core/interactiveshell.py\", line 2064, in showtraceback\n",
      "    value, tb, tb_offset=tb_offset)\n",
      "  File \"/home/tihaam/miniconda2/envs/vod3/lib/python3.7/site-packages/IPython/core/ultratb.py\", line 1368, in structured_traceback\n",
      "    self, etype, value, tb, tb_offset, number_of_lines_of_context)\n",
      "  File \"/home/tihaam/miniconda2/envs/vod3/lib/python3.7/site-packages/IPython/core/ultratb.py\", line 1268, in structured_traceback\n",
      "    self, etype, value, tb, tb_offset, number_of_lines_of_context\n",
      "  File \"/home/tihaam/miniconda2/envs/vod3/lib/python3.7/site-packages/IPython/core/ultratb.py\", line 1143, in structured_traceback\n",
      "    chained_exceptions_tb_offset)\n",
      "  File \"/home/tihaam/miniconda2/envs/vod3/lib/python3.7/site-packages/IPython/core/ultratb.py\", line 1082, in format_exception_as_a_whole\n",
      "    last_unique, recursion_repeat = find_recursion(orig_etype, evalue, records)\n",
      "  File \"/home/tihaam/miniconda2/envs/vod3/lib/python3.7/site-packages/IPython/core/ultratb.py\", line 382, in find_recursion\n",
      "    return len(records), 0\n",
      "TypeError: object of type 'NoneType' has no len()\n",
      "\n",
      "During handling of the above exception, another exception occurred:\n",
      "\n",
      "Traceback (most recent call last):\n",
      "  File \"/home/tihaam/miniconda2/envs/vod3/lib/python3.7/site-packages/IPython/core/interactiveshell.py\", line 2061, in showtraceback\n",
      "    stb = value._render_traceback_()\n",
      "AttributeError: 'TypeError' object has no attribute '_render_traceback_'\n",
      "\n",
      "During handling of the above exception, another exception occurred:\n",
      "\n",
      "Traceback (most recent call last):\n",
      "  File \"/home/tihaam/miniconda2/envs/vod3/lib/python3.7/site-packages/IPython/core/ultratb.py\", line 1101, in get_records\n",
      "    return _fixed_getinnerframes(etb, number_of_lines_of_context, tb_offset)\n",
      "  File \"/home/tihaam/miniconda2/envs/vod3/lib/python3.7/site-packages/IPython/core/ultratb.py\", line 248, in wrapped\n",
      "    return f(*args, **kwargs)\n",
      "  File \"/home/tihaam/miniconda2/envs/vod3/lib/python3.7/site-packages/IPython/core/ultratb.py\", line 281, in _fixed_getinnerframes\n",
      "    records = fix_frame_records_filenames(inspect.getinnerframes(etb, context))\n",
      "  File \"/home/tihaam/miniconda2/envs/vod3/lib/python3.7/inspect.py\", line 1502, in getinnerframes\n",
      "    frameinfo = (tb.tb_frame,) + getframeinfo(tb, context)\n",
      "  File \"/home/tihaam/miniconda2/envs/vod3/lib/python3.7/inspect.py\", line 1460, in getframeinfo\n",
      "    filename = getsourcefile(frame) or getfile(frame)\n",
      "  File \"/home/tihaam/miniconda2/envs/vod3/lib/python3.7/inspect.py\", line 696, in getsourcefile\n",
      "    if getattr(getmodule(object, filename), '__loader__', None) is not None:\n",
      "  File \"/home/tihaam/miniconda2/envs/vod3/lib/python3.7/inspect.py\", line 733, in getmodule\n",
      "    if ismodule(module) and hasattr(module, '__file__'):\n",
      "  File \"/home/tihaam/miniconda2/envs/vod3/lib/python3.7/site-packages/tensorflow/__init__.py\", line 50, in __getattr__\n",
      "    module = self._load()\n",
      "  File \"/home/tihaam/miniconda2/envs/vod3/lib/python3.7/site-packages/tensorflow/__init__.py\", line 44, in _load\n",
      "    module = _importlib.import_module(self.__name__)\n",
      "  File \"/home/tihaam/miniconda2/envs/vod3/lib/python3.7/importlib/__init__.py\", line 127, in import_module\n",
      "    return _bootstrap._gcd_import(name[level:], package, level)\n",
      "  File \"<frozen importlib._bootstrap>\", line 1006, in _gcd_import\n",
      "  File \"<frozen importlib._bootstrap>\", line 983, in _find_and_load\n",
      "  File \"<frozen importlib._bootstrap>\", line 965, in _find_and_load_unlocked\n",
      "ModuleNotFoundError: No module named 'tensorflow_core.estimator'\n"
     ]
    }
   ],
   "source": [
    "for epoch in range(NUM_EPOCHS):\n",
    "    ####################################################################################################################\n",
    "    # Training\n",
    "    ####################################################################################################################\n",
    "    epoch_loss = []\n",
    "    batch_grad, batch_loss = [], []\n",
    "    np.random.shuffle(fpaths_train)\n",
    "    for fpath in tqdm(fpaths_train):\n",
    "        # Preprocess input images\n",
    "        input_img = Image.open(fpath)\n",
    "        \n",
    "        x_nat, x_bbox = letterbox_image_padded(input_img, size=detector.model_img_size)\n",
    "\n",
    "        # Get roi candidates with an area higher than a predefined threshold to avoid trivial attacks\n",
    "        detections_nat = detector.detect(x_nat)\n",
    "        rois = extract_roi(detections_nat, detector.classes.index(SOURCE_CLASS), x_bbox, min_size=MIN_ROI_SIZE, patch_size=PATCH_SIZE)\n",
    "        if len(rois) == 0:\n",
    "            continue\n",
    "\n",
    "        # Apply adversarial patch to each of the rois\n",
    "        x_adv = x_nat.copy()\n",
    "        detections_target = detections_nat.copy()\n",
    "        for _, _, (xmin, ymin, xmax, ymax), did in rois:\n",
    "            x_adv[:, ymin:ymax, xmin:xmax, :] = patch\n",
    "        \n",
    "        # Compute gradients\n",
    "        grad, loss = detector.compute_object_vanishing_gradient_and_loss(x_adv, detections=detections_target)\n",
    "\n",
    "        # Clip gradients to the area where the adversarial patch is located\n",
    "        grad = np.mean([grad[:, ymin:ymax, xmin:xmax, :] for _, _, (xmin, ymin, xmax, ymax), _ in rois], axis=0)\n",
    "        batch_grad.append(grad)\n",
    "        batch_loss.append(loss)\n",
    "\n",
    "        if len(batch_loss) == BATCH_SIZE:  # Update the adversarial patch and log the loss over the mini-batch\n",
    "            patch = np.clip(patch - lr * np.mean(batch_grad, axis=0), 0.0, 1.0)\n",
    "            epoch_loss.append(np.mean(batch_loss))\n",
    "            batch_grad, batch_loss = [], []\n",
    "\n",
    "    ####################################################################################################################\n",
    "    # Testing\n",
    "    ####################################################################################################################\n",
    "    # Baseline = Random permutation of the adversarial patch (i.e., decorrelating pixels)\n",
    "    patch_rand = np.reshape(patch.copy(), newshape=(patch.shape[0]*patch.shape[1]*patch.shape[2], patch.shape[3]))\n",
    "    np.random.shuffle(patch_rand)\n",
    "    patch_rand = np.reshape(patch_rand, newshape=patch.shape)\n",
    "    num_rois, score_adv, score_rand = 0, 0, 0\n",
    "    for fpath in fpaths_test:\n",
    "        input_img = Image.open(fpath)\n",
    "        x_nat, x_bbox = letterbox_image_padded(input_img, size=detector.model_img_size)\n",
    "\n",
    "        # Get roi candidates with an area higher than a predefined threshold to avoid trivial attacks\n",
    "        detections_nat = detector.detect(x_nat)\n",
    "        rois = extract_roi(detections_nat, detector.classes.index(SOURCE_CLASS), x_bbox, min_size=MIN_ROI_SIZE, patch_size=PATCH_SIZE)\n",
    "        num_rois_x = len(rois)\n",
    "        if num_rois_x == 0:\n",
    "            continue\n",
    "\n",
    "        x_adv, x_rand = x_nat.copy(), x_nat.copy()\n",
    "        for _, _, (xmin, ymin, xmax, ymax), _ in rois:\n",
    "            x_adv[:, ymin:ymax, xmin:xmax, :] = patch\n",
    "            x_rand[:, ymin:ymax, xmin:xmax, :] = patch_rand\n",
    "        detections_adv = detector.detect(x_adv)\n",
    "        detections_rand = detector.detect(x_rand)\n",
    "\n",
    "        score_adv_x, score_rand_x = evaluate_vanishing_patch(detector.classes.index(SOURCE_CLASS), rois, detections_adv, detections_rand)\n",
    "        score_adv += score_adv_x\n",
    "        score_rand += score_rand_x\n",
    "        num_rois += num_rois_x\n",
    "\n",
    "    # Compute training statistics\n",
    "    epoch_loss = float(np.mean(epoch_loss))\n",
    "    ASR_TOG = score_adv / num_rois\n",
    "    ASR_Rand = score_rand / num_rois\n",
    "\n",
    "    # Save the adversarial patch\n",
    "    np.save(os.path.join(output_folder, 'Epoch-%d_Loss-%.2f_ASR-%.2f.npy' % (epoch, epoch_loss, ASR_TOG)), patch)\n",
    "\n",
    "    # Monitor training loss for learning rate scheduling\n",
    "    if epoch_loss > min_loss - TOLERANCE_DELTA:\n",
    "        tolerance += 1\n",
    "        if tolerance >= TOLERANCE_MAX:\n",
    "            lr *= LR_MULTIPLIER\n",
    "            tolerance = 0\n",
    "    else:\n",
    "        tolerance = 0\n",
    "    min_loss = min(min_loss, epoch_loss)\n",
    "\n",
    "    # Print training progress\n",
    "    print('[Epoch %d] LR: %f | Tol: %d/%d | Min. Loss: %.4f' % (epoch, lr, tolerance + 1, TOLERANCE_MAX, min_loss))\n",
    "    print('  > Loss      : %.4f' % epoch_loss)\n",
    "    print('  > ASR (TOG) : %d/%d = %.2f' % (score_adv, num_rois, ASR_TOG))\n",
    "    print('  > ASR (Rand): %d/%d = %.2f' % (score_rand, num_rois, ASR_Rand))"
   ]
  },
  {
   "cell_type": "markdown",
   "metadata": {
    "pycharm": {
     "is_executing": false,
     "name": "#%% md\n"
    }
   },
   "source": [
    "## Testing TOG-vanishing Adversarial Patch"
   ]
  },
  {
   "cell_type": "code",
   "execution_count": null,
   "metadata": {},
   "outputs": [
    {
     "name": "stderr",
     "output_type": "stream",
     "text": [
      "WARNING:imageio_ffmpeg:IMAGEIO FFMPEG_WRITER WARNING: input image is not divisible by macro_block_size=16, resizing from (216, 216) to (224, 224) to ensure video compatibility with most codecs and players. To prevent resizing, make your input image divisible by the macro_block_size or set the macro_block_size to 1 (risking incompatibility).\n",
      "[swscaler @ 0x55afafdf8300] Warning: data is not aligned! This can lead to a speed loss\n"
     ]
    }
   ],
   "source": [
    "import imageio\n",
    "\n",
    "reader = imageio.get_reader('./assets/personvid.mp4')\n",
    "#np.uint8(cm.gist_earth(myarray)*255)\n",
    "w = imageio.get_writer('./assets/attackperson_videobenign.mp4', format='FFMPEG', mode='I', fps=20)\n",
    "for i, im in enumerate(reader):\n",
    "    \n",
    "    pil_img = Image.fromarray(im)\n",
    "    x_query, x_meta = letterbox_image_padded(pil_img, size=detector.model_img_size)\n",
    "    detections_query = detector.detect(x_query, conf_threshold=detector.confidence_thresh_default)\n",
    "\n",
    "    # Get roi candidates with an area higher than a predefined threshold to avoid trivial attacks\n",
    "    rois = extract_roi(detections_query, detector.classes.index(SOURCE_CLASS), x_meta, min_size=MIN_ROI_SIZE, patch_size=PATCH_SIZE)\n",
    "\n",
    "    # Apply adversarial patch to each of the rois\n",
    "    x_adv, x_rand = x_query.copy(), x_query.copy()\n",
    "    for _, _, (xmin, ymin, xmax, ymax), did in rois:\n",
    "        x_adv[:, ymin:ymax, xmin:xmax, :] = patch\n",
    "        x_rand[:, ymin:ymax, xmin:xmax, :] = patch_rand\n",
    "    detections_adv = detector.detect(x_adv, conf_threshold=detector.confidence_thresh_default)\n",
    "    detections_rand = detector.detect(x_rand, conf_threshold=detector.confidence_thresh_default)\n",
    "    ddd=visualize_detections({'Benign': (x_query, detections_query, detector.model_img_size, detector.classes)})\n",
    "    if i==50:\n",
    "        break;\n",
    "    w.append_data(ddd)\n",
    "w.close()\n",
    "    #print(pil_img)"
   ]
  },
  {
   "cell_type": "code",
   "execution_count": 30,
   "metadata": {
    "pycharm": {
     "name": "#%% \n"
    }
   },
   "outputs": [
    {
     "data": {
      "text/plain": [
       "array([[[255, 255, 255],\n",
       "        [255, 255, 255],\n",
       "        [255, 255, 255],\n",
       "        ...,\n",
       "        [255, 255, 255],\n",
       "        [255, 255, 255],\n",
       "        [255, 255, 255]],\n",
       "\n",
       "       [[255, 255, 255],\n",
       "        [255, 255, 255],\n",
       "        [255, 255, 255],\n",
       "        ...,\n",
       "        [255, 255, 255],\n",
       "        [255, 255, 255],\n",
       "        [255, 255, 255]],\n",
       "\n",
       "       [[255, 255, 255],\n",
       "        [255, 255, 255],\n",
       "        [255, 255, 255],\n",
       "        ...,\n",
       "        [255, 255, 255],\n",
       "        [255, 255, 255],\n",
       "        [255, 255, 255]],\n",
       "\n",
       "       ...,\n",
       "\n",
       "       [[255, 255, 255],\n",
       "        [255, 255, 255],\n",
       "        [255, 255, 255],\n",
       "        ...,\n",
       "        [255, 255, 255],\n",
       "        [255, 255, 255],\n",
       "        [255, 255, 255]],\n",
       "\n",
       "       [[255, 255, 255],\n",
       "        [255, 255, 255],\n",
       "        [255, 255, 255],\n",
       "        ...,\n",
       "        [255, 255, 255],\n",
       "        [255, 255, 255],\n",
       "        [255, 255, 255]],\n",
       "\n",
       "       [[255, 255, 255],\n",
       "        [255, 255, 255],\n",
       "        [255, 255, 255],\n",
       "        ...,\n",
       "        [255, 255, 255],\n",
       "        [255, 255, 255],\n",
       "        [255, 255, 255]]], dtype=uint8)"
      ]
     },
     "execution_count": 30,
     "metadata": {},
     "output_type": "execute_result"
    },
    {
     "data": {
      "text/plain": [
       "<Figure size 432x288 with 0 Axes>"
      ]
     },
     "metadata": {},
     "output_type": "display_data"
    },
    {
     "data": {
      "image/png": "[encoded data removed]",
      "text/plain": [
       "<Figure size 648x216 with 3 Axes>"
      ]
     },
     "metadata": {
      "needs_background": "light"
     },
     "output_type": "display_data"
    }
   ],
   "source": [
    "fpath = '/home/tihaam/Downloads/INRIAPerson/Train/pos/crop001019.png'    # TODO: Change this path to the image to be attacked\n",
    "\n",
    "input_img = Image.open(fpath)\n",
    "x_query, x_meta = letterbox_image_padded(input_img, size=detector.model_img_size)\n",
    "detections_query = detector.detect(x_query, conf_threshold=detector.confidence_thresh_default)\n",
    "\n",
    "# Get roi candidates with an area higher than a predefined threshold to avoid trivial attacks\n",
    "rois = extract_roi(detections_query, detector.classes.index(SOURCE_CLASS), x_meta, min_size=MIN_ROI_SIZE, patch_size=PATCH_SIZE)\n",
    "\n",
    "# Apply adversarial patch to each of the rois\n",
    "x_adv, x_rand = x_query.copy(), x_query.copy()\n",
    "for _, _, (xmin, ymin, xmax, ymax), did in rois:\n",
    "    x_adv[:, ymin:ymax, xmin:xmax, :] = patch\n",
    "    x_rand[:, ymin:ymax, xmin:xmax, :] = patch_rand\n",
    "detections_adv = detector.detect(x_adv, conf_threshold=detector.confidence_thresh_default)\n",
    "detections_rand = detector.detect(x_rand, conf_threshold=detector.confidence_thresh_default)\n",
    "visualize_detections({'Benign (No Attack)': (x_query, detections_query, detector.model_img_size, detector.classes),\n",
    "                      'Random Patch': (x_rand, detections_rand, detector.model_img_size, detector.classes),\n",
    "                      'TOG-vanishing Patch': (x_adv, detections_adv, detector.model_img_size, detector.classes)})"
   ]
  }
 ],
 "metadata": {
  "kernelspec": {
   "display_name": "Python 3 (ipykernel)",
   "language": "python",
   "name": "python3"
  },
  "language_info": {
   "codemirror_mode": {
    "name": "ipython",
    "version": 3
   },
   "file_extension": ".py",
   "mimetype": "text/x-python",
   "name": "python",
   "nbconvert_exporter": "python",
   "pygments_lexer": "ipython3",
   "version": "3.7.11"
  },
  "pycharm": {
   "stem_cell": {
    "cell_type": "raw",
    "metadata": {
     "collapsed": false
    },
    "source": []
   }
  }
 },
 "nbformat": 4,
 "nbformat_minor": 1
}
